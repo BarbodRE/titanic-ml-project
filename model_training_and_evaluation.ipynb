{
 "cells": [
  {
   "cell_type": "code",
   "execution_count": 2,
   "id": "e4dc23e0",
   "metadata": {},
   "outputs": [],
   "source": [
    "from sklearn.neighbors import KNeighborsClassifier\n",
    "from sklearn.svm import SVC\n",
    "from sklearn.ensemble import RandomForestClassifier\n",
    "from sklearn.linear_model import LogisticRegression\n",
    "from sklearn.metrics import classification_report, confusion_matrix, roc_auc_score, roc_curve\n",
    "from sklearn.model_selection import GridSearchCV, cross_val_score\n",
    "import matplotlib.pyplot as plt\n",
    "import joblib \n",
    "import seaborn as sns"
   ]
  },
  {
   "cell_type": "code",
   "execution_count": 3,
   "id": "b2a3d72b",
   "metadata": {},
   "outputs": [],
   "source": [
    "x_train_scalrd = joblib.load('data/x_train_scaled.pk1')\n",
    "x_test_scaled = joblib.load('data/x_test_scaled.pk1')\n",
    "y_train = joblib.load('data/y_train.pk1')\n",
    "y_test = joblib.load('data/y_test.pk1')"
   ]
  },
  {
   "cell_type": "code",
   "execution_count": 4,
   "id": "329346eb",
   "metadata": {},
   "outputs": [
    {
     "name": "stdout",
     "output_type": "stream",
     "text": [
      "Best K: {'n_neighbors': 13}\n",
      "Best accuracy: 0.8090219639515415\n"
     ]
    }
   ],
   "source": [
    "knn = KNeighborsClassifier()\n",
    "param_grid_knn = {'n_neighbors': list(range(3, 16))}\n",
    "\n",
    "grid_knn = GridSearchCV(knn, param_grid_knn, cv=5, scoring='accuracy')\n",
    "grid_knn.fit(x_train_scalrd, y_train)\n",
    "\n",
    "print(\"Best K:\", grid_knn.best_params_)\n",
    "print(\"Best accuracy:\", grid_knn.best_score_)"
   ]
  },
  {
   "cell_type": "code",
   "execution_count": 5,
   "id": "ab12a159",
   "metadata": {},
   "outputs": [
    {
     "name": "stdout",
     "output_type": "stream",
     "text": [
      "Confusion Metricx (KNN):\n",
      "[[96  9]\n",
      " [22 52]]\n",
      "\n",
      "Classification Report (KNN):\n",
      "              precision    recall  f1-score   support\n",
      "\n",
      "           0       0.81      0.91      0.86       105\n",
      "           1       0.85      0.70      0.77        74\n",
      "\n",
      "    accuracy                           0.83       179\n",
      "   macro avg       0.83      0.81      0.82       179\n",
      "weighted avg       0.83      0.83      0.82       179\n",
      "\n",
      "ROC-AUC (KNN) 0.896074646074646\n"
     ]
    }
   ],
   "source": [
    "from sklearn.metrics import accuracy_score\n",
    "\n",
    "y_pred_knn = grid_knn.predict(x_test_scaled)\n",
    "\n",
    "print(\"Confusion Metricx (KNN):\")\n",
    "print(confusion_matrix(y_test, y_pred_knn))\n",
    "print(\"\\nClassification Report (KNN):\")\n",
    "print(classification_report(y_test, y_pred_knn))\n",
    "\n",
    "auc_knn = roc_auc_score(y_test, grid_knn.predict_proba(x_test_scaled)[:,1])\n",
    "print(\"ROC-AUC (KNN)\", auc_knn)"
   ]
  },
  {
   "cell_type": "code",
   "execution_count": 6,
   "id": "41c8aabe",
   "metadata": {},
   "outputs": [
    {
     "name": "stdout",
     "output_type": "stream",
     "text": [
      "Cross-Validated accuracy (KNN): 0.8090219639515415\n"
     ]
    }
   ],
   "source": [
    "scores = cross_val_score(grid_knn.best_estimator_, x_train_scalrd, y_train, cv=5)\n",
    "print(\"Cross-Validated accuracy (KNN):\", scores.mean())"
   ]
  },
  {
   "cell_type": "code",
   "execution_count": 7,
   "id": "f1692b44",
   "metadata": {},
   "outputs": [],
   "source": [
    "import os\n",
    "os.makedirs('model', exist_ok=True)"
   ]
  },
  {
   "cell_type": "code",
   "execution_count": 8,
   "id": "2e4b5d19",
   "metadata": {},
   "outputs": [
    {
     "data": {
      "text/plain": [
       "['model/knn_model.pk1']"
      ]
     },
     "execution_count": 8,
     "metadata": {},
     "output_type": "execute_result"
    }
   ],
   "source": [
    "joblib.dump(grid_knn.best_estimator_, 'model/knn_model.pk1')"
   ]
  },
  {
   "cell_type": "code",
   "execution_count": 9,
   "id": "da019cac",
   "metadata": {},
   "outputs": [
    {
     "name": "stdout",
     "output_type": "stream",
     "text": [
      "Classification Report (SVM):\n",
      "              precision    recall  f1-score   support\n",
      "\n",
      "           0       0.81      0.91      0.86       105\n",
      "           1       0.85      0.70      0.77        74\n",
      "\n",
      "    accuracy                           0.83       179\n",
      "   macro avg       0.83      0.81      0.82       179\n",
      "weighted avg       0.83      0.83      0.82       179\n",
      "\n"
     ]
    }
   ],
   "source": [
    "svm = SVC(probability=True)\n",
    "param_grid_svm = {'C': [0.1, 1, 10], 'gamma': ['scale', 0.01, 0.001], 'kernel': ['rbf']}\n",
    "grid_svm = GridSearchCV(svm, param_grid_svm, cv=5, scoring='accuracy')\n",
    "grid_svm.fit(x_train_scalrd, y_train)\n",
    "\n",
    "y_pred_svm = grid_svm.predict(x_test_scaled)\n",
    "print(\"Classification Report (SVM):\")\n",
    "print(classification_report(y_test, y_pred_svm))"
   ]
  },
  {
   "cell_type": "code",
   "execution_count": 10,
   "id": "3fc4bfd3",
   "metadata": {},
   "outputs": [
    {
     "name": "stdout",
     "output_type": "stream",
     "text": [
      "Classification Report (RF):\n",
      "              precision    recall  f1-score   support\n",
      "\n",
      "           0       0.76      0.94      0.84       105\n",
      "           1       0.88      0.57      0.69        74\n",
      "\n",
      "    accuracy                           0.79       179\n",
      "   macro avg       0.82      0.76      0.76       179\n",
      "weighted avg       0.81      0.79      0.78       179\n",
      "\n"
     ]
    }
   ],
   "source": [
    "rf = RandomForestClassifier(random_state=42)\n",
    "param_grid_rf = {'n_estimators': [50, 100], 'max_depth': [3, 5, None]}\n",
    "grid_rf = GridSearchCV(rf, param_grid_rf, cv=5, scoring='accuracy')\n",
    "grid_rf.fit(x_train_scalrd, y_train)\n",
    "\n",
    "y_pred_rf = grid_rf.predict(x_test_scaled)\n",
    "print(\"Classification Report (RF):\")\n",
    "print(classification_report(y_test, y_pred_rf))"
   ]
  },
  {
   "cell_type": "code",
   "execution_count": 11,
   "id": "bef5bb9a",
   "metadata": {},
   "outputs": [
    {
     "data": {
      "image/png": "[encoded data removed]",
      "text/plain": [
       "<Figure size 800x500 with 1 Axes>"
      ]
     },
     "metadata": {},
     "output_type": "display_data"
    }
   ],
   "source": [
    "models = ['KNN', 'SVM', 'Random Forest']\n",
    "accuracies = [\n",
    "    accuracy_score(y_test, y_pred_knn),\n",
    "    accuracy_score(y_test, y_pred_svm),\n",
    "    accuracy_score(y_test, y_pred_rf)\n",
    "]\n",
    "\n",
    "plt.figure(figsize=(8, 5))\n",
    "sns.barplot(x=models, y=accuracies)\n",
    "plt.ylabel('Accuracy')\n",
    "plt.title('Model Comparison on Test Set')\n",
    "plt.show()"
   ]
  }
 ],
 "metadata": {
  "kernelspec": {
   "display_name": "tf_env",
   "language": "python",
   "name": "python3"
  },
  "language_info": {
   "codemirror_mode": {
    "name": "ipython",
    "version": 3
   },
   "file_extension": ".py",
   "mimetype": "text/x-python",
   "name": "python",
   "nbconvert_exporter": "python",
   "pygments_lexer": "ipython3",
   "version": "3.10.0"
  }
 },
 "nbformat": 4,
 "nbformat_minor": 5
}
